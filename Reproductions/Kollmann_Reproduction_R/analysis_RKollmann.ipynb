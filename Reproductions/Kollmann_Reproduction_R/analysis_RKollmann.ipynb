{
 "cells": [
  {
   "cell_type": "code",
   "execution_count": 1,
   "metadata": {},
   "outputs": [],
   "source": [
    "import scipy.stats as st\n",
    "import scipy.integrate as integ\n",
    "import numpy as np\n",
    "import matplotlib.pyplot as plt"
   ]
  },
  {
   "cell_type": "code",
   "execution_count": 2,
   "metadata": {},
   "outputs": [],
   "source": [
    "n_bact = 10000\n",
    "fold_expr = [0.25,0.5,0.75,1,1.25, 1.5,2 ,3, 4, 5]\n",
    "\n",
    "runs = len(fold_expr)\n",
    "\n",
    "avg_Ytot = np.zeros(runs)\n",
    "avg_Yp = np.zeros(runs)\n",
    "avg_Ap = np.zeros(runs)\n",
    "avg_Bp = np.zeros(runs)\n",
    "chemo_frac = np.zeros(runs)\n",
    "for i in range(runs):\n",
    "    filename = \"results_{}_{}.csv\".format(n_bact,fold_expr[i])\n",
    "    data = np.genfromtxt(filename,skip_header=1, delimiter = \",\")\n",
    "    \n",
    "    Ytot = data[:,0]\n",
    "    Atot = data[:,1]\n",
    "    Ztot = data[:,2]\n",
    "    Rtot = data[:,3]\n",
    "    Btot = data[:,4]\n",
    "    Yp = data[:,5]\n",
    "    Ap = data[:,6]\n",
    "    Bp = data[:,7]\n",
    "    \n",
    "    avg_Ytot[i] = np.mean(Ytot)\n",
    "    avg_Yp[i] = np.mean(Yp)\n",
    "    avg_Ap[i] = np.mean(Ap)\n",
    "    avg_Bp[i] = np.mean(Bp)\n",
    "    \n",
    "    chemo = 0\n",
    "    cells = len(Yp)\n",
    "    for j in range(cells):\n",
    "        if Yp[j]>2.2:\n",
    "            if Yp[j]<4.3:\n",
    "                chemo += 1\n",
    "    chemo_frac[i] = chemo/n_bact"
   ]
  },
  {
   "cell_type": "code",
   "execution_count": 4,
   "metadata": {},
   "outputs": [
    {
     "name": "stdout",
     "output_type": "stream",
     "text": [
      "[0.2984 0.5792 0.6844 0.7243 0.7585 0.7887 0.8266 0.8787 0.9024 0.9326]\n"
     ]
    },
    {
     "data": {
      "image/png": "[encoded data removed]",
      "text/plain": [
       "<Figure size 432x288 with 1 Axes>"
      ]
     },
     "metadata": {
      "needs_background": "light"
     },
     "output_type": "display_data"
    }
   ],
   "source": [
    "print(chemo_frac)\n",
    "\n",
    "#plt.plot([0,5],[1,1],ls=\"--\",color=\"red\")\n",
    "plt.scatter(fold_expr, chemo_frac,color=\"black\")\n",
    "plt.plot(fold_expr,chemo_frac,color=\"black\",ls=\"--\")\n",
    "plt.xlabel(\"Fold Expression\")\n",
    "plt.ylabel(\"Chemotactic Cells\")\n",
    "#plt.title(\"N = 10000, t = 500s\")\n",
    "plt.ylim(0,1)\n",
    "plt.xlim(0,5.1)\n",
    "#plt.show()\n",
    "plt.savefig(\"chemotactic_cells.pdf\")\n",
    "\n"
   ]
  },
  {
   "cell_type": "code",
   "execution_count": 118,
   "metadata": {},
   "outputs": [
    {
     "name": "stdout",
     "output_type": "stream",
     "text": [
      "49.58821243792505\n",
      "20.875958213218134\n"
     ]
    }
   ],
   "source": [
    "#plt.scatter(Ytot/9.7,Atot/5.3,s=5)\n",
    "#plt.xlim(0,3)\n",
    "#plt.ylim(0,3)\n",
    "print(np.mean(Ytot))\n",
    "print(np.std(Ytot))\n"
   ]
  },
  {
   "cell_type": "code",
   "execution_count": 119,
   "metadata": {},
   "outputs": [
    {
     "name": "stdout",
     "output_type": "stream",
     "text": [
      "100\n",
      "3.448154943413216\n",
      "0.08610002351327198\n"
     ]
    }
   ],
   "source": [
    "\n",
    "            \n",
    "print(chemo)\n",
    "    \n",
    "print(np.mean(Yp))\n",
    "print(np.std(Yp))"
   ]
  },
  {
   "cell_type": "code",
   "execution_count": 96,
   "metadata": {},
   "outputs": [
    {
     "data": {
      "text/plain": [
       "Text(0, 0.5, 'Yp')"
      ]
     },
     "execution_count": 96,
     "metadata": {},
     "output_type": "execute_result"
    },
    {
     "data": {
      "image/png": "[encoded data removed]",
      "text/plain": [
       "<Figure size 432x288 with 1 Axes>"
      ]
     },
     "metadata": {
      "needs_background": "light"
     },
     "output_type": "display_data"
    }
   ],
   "source": [
    "\n",
    "plt.scatter(Ytot,Yp)\n",
    "plt.plot([0.1,1.5],[2.2,2.2],c=\"red\")\n",
    "plt.plot([0.1,1.5],[4.3,4.3],c=\"red\")\n",
    "#plt.xlim(0.2,1.5)\n",
    "plt.xlabel(\"Ytot\")\n",
    "plt.ylabel(\"Yp\")\n",
    "#plt.title(\"29% chemotactic\")\n",
    "#plt.savefig(\"Yp_kYlow.png\")"
   ]
  },
  {
   "cell_type": "code",
   "execution_count": 24,
   "metadata": {},
   "outputs": [
    {
     "name": "stdout",
     "output_type": "stream",
     "text": [
      "0.669882100750268\n"
     ]
    }
   ],
   "source": [
    "n_bact = 3000\n",
    "fold_expr = 0.5\n",
    "filename = \"results_{}_{}.csv\".format(n_bact,fold_expr)\n",
    "data = np.genfromtxt(filename,skip_header=1, delimiter = \",\")\n",
    "n_bact = 933\n",
    "Ytot = data[:,0]\n",
    "Atot = data[:,1]\n",
    "Ztot = data[:,2]\n",
    "Rtot = data[:,3]\n",
    "Btot = data[:,4]\n",
    "Yp = data[:,5]\n",
    "Ap = data[:,6]\n",
    "Bp = data[:,7]\n",
    "\n",
    "chemo = 0\n",
    "cells = len(Yp)\n",
    "for j in range(cells):\n",
    "    if Yp[j]>2.2:\n",
    "        if Yp[j]<4.3:\n",
    "            chemo += 1\n",
    "chemo_frac = chemo/n_bact\n",
    "print(chemo_frac)"
   ]
  },
  {
   "cell_type": "code",
   "execution_count": null,
   "metadata": {},
   "outputs": [],
   "source": []
  }
 ],
 "metadata": {
  "kernelspec": {
   "display_name": "Python 3",
   "language": "python",
   "name": "python3"
  },
  "language_info": {
   "codemirror_mode": {
    "name": "ipython",
    "version": 3
   },
   "file_extension": ".py",
   "mimetype": "text/x-python",
   "name": "python",
   "nbconvert_exporter": "python",
   "pygments_lexer": "ipython3",
   "version": "3.7.6"
  }
 },
 "nbformat": 4,
 "nbformat_minor": 4
}
